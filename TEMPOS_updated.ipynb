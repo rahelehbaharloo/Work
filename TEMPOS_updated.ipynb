{
 "cells": [
  {
   "cell_type": "markdown",
   "metadata": {
    "run_control": {
     "frozen": false,
     "read_only": false
    }
   },
   "source": [
    "##### Import required libraries"
   ]
  },
  {
   "cell_type": "code",
   "execution_count": 1,
   "metadata": {
    "collapsed": true,
    "run_control": {
     "frozen": false,
     "read_only": false
    }
   },
   "outputs": [],
   "source": [
    "%matplotlib inline\n",
    "import pandas as pd\n",
    "import numpy as np\n",
    "from scipy.stats import norm,geom\n",
    "import math\n",
    "from matplotlib import pyplot as plt\n",
    "from scipy.stats.kde import gaussian_kde\n",
    "from numpy import linspace\n",
    "import seaborn as sns\n",
    "import random\n",
    "from scipy.interpolate import interp1d\n",
    "from matplotlib.backends.backend_pdf import PdfPages  "
   ]
  },
  {
   "cell_type": "markdown",
   "metadata": {
    "run_control": {
     "frozen": false,
     "read_only": false
    }
   },
   "source": [
    "##### Import the master data containing the age, gender and Service Type"
   ]
  },
  {
   "cell_type": "code",
   "execution_count": 2,
   "metadata": {
    "run_control": {
     "frozen": false,
     "read_only": false
    }
   },
   "outputs": [],
   "source": [
    "master_data = pd.read_csv('C:\\Raha\\Work\\TEMPOS\\Dr.Tighe\\ENCRYPTED_MASTER_DATASET.csv')\n",
    "#master_data = pd.read_csv('/Volumes/Tempos/TEMPOS Release 1_11_17/CSV/ENCRYPTED_MASTER_DATASET.csv')\n",
    "\n",
    "filtered_master=master_data\n",
    "filtered_master['Age']=''\n",
    "filtered_master.loc[filtered_master['Age at Encounter'] <= 40, 'Age'] = '40 and Below'\n",
    "filtered_master.loc[((filtered_master['Age at Encounter'] >=40) & (filtered_master['Age at Encounter'] <=70)), 'Age'] = 'Between 40 and 70'\n",
    "filtered_master.loc[((filtered_master['Age at Encounter'] >=70)) , 'Age'] = 'Above 70'\n",
    "filtered=filtered_master[['RedCap_ID','Age','Sex','Service']]"
   ]
  },
  {
   "cell_type": "markdown",
   "metadata": {
    "run_control": {
     "frozen": false,
     "read_only": false
    }
   },
   "source": [
    "### Extract Engineering Logs"
   ]
  },
  {
   "cell_type": "markdown",
   "metadata": {
    "run_control": {
     "frozen": false,
     "read_only": false
    }
   },
   "source": [
    "The aim of the code is to extract  the demands and deliveries according and analyze the distributions.\n",
    "First all the required libraries are imported. The data is extracted from the Engineering logs.\n",
    "The variables used stand for the following:\n",
    "keypress-list of  the number of keypresses (demands) per patient.\n",
    "\n",
    "doses-list of the number of deliveries per patient.\n",
    "\n",
    "patient-list of patient id\n",
    "\n",
    "time_demand-Time between demands\n",
    "\n",
    "time_delivery-Time between deliveries\n",
    "\n",
    "last_demand-Time to the last demand per patient\n",
    "\n",
    "last_delivery-Time to the last delivery per patient"
   ]
  },
  {
   "cell_type": "code",
   "execution_count": 148,
   "metadata": {
    "run_control": {
     "frozen": false,
     "read_only": false
    },
    "scrolled": true
   },
   "outputs": [
    {
     "name": "stdout",
     "output_type": "stream",
     "text": [
      "Error\n",
      "WARNING *** file size (271633) not 512 + multiple of sector size (512)\n",
      "Error\n",
      "Error\n"
     ]
    },
    {
     "name": "stderr",
     "output_type": "stream",
     "text": [
      "C:\\Users\\BME-LADM-Baharloo\\AppData\\Local\\Continuum\\Anaconda2\\lib\\site-packages\\ipykernel_launcher.py:53: SettingWithCopyWarning: \n",
      "A value is trying to be set on a copy of a slice from a DataFrame.\n",
      "Try using .loc[row_indexer,col_indexer] = value instead\n",
      "\n",
      "See the caveats in the documentation: http://pandas.pydata.org/pandas-docs/stable/indexing.html#indexing-view-versus-copy\n",
      "C:\\Users\\BME-LADM-Baharloo\\AppData\\Local\\Continuum\\Anaconda2\\lib\\site-packages\\ipykernel_launcher.py:130: DeprecationWarning: \n",
      ".ix is deprecated. Please use\n",
      ".loc for label based indexing or\n",
      ".iloc for positional indexing\n",
      "\n",
      "See the documentation here:\n",
      "http://pandas.pydata.org/pandas-docs/stable/indexing.html#deprecate_ix\n"
     ]
    },
    {
     "name": "stdout",
     "output_type": "stream",
     "text": [
      "WARNING *** file size (258785) not 512 + multiple of sector size (512)\n",
      "Error\n",
      "Error\n",
      "WARNING *** file size (337023) not 512 + multiple of sector size (512)\n",
      "Error\n",
      "WARNING *** file size (128165) not 512 + multiple of sector size (512)\n",
      "WARNING *** file size (271005) not 512 + multiple of sector size (512)\n",
      "WARNING *** file size (1400407) not 512 + multiple of sector size (512)\n",
      "Error\n",
      "Error\n",
      "WARNING *** file size (251137) not 512 + multiple of sector size (512)\n",
      "WARNING *** file size (2309840) not 512 + multiple of sector size (512)\n",
      "Error\n",
      "WARNING *** file size (327525) not 512 + multiple of sector size (512)\n",
      "WARNING *** file size (2179649) not 512 + multiple of sector size (512)\n",
      "Error\n",
      "WARNING *** file size (55753) not 512 + multiple of sector size (512)\n",
      "Error\n",
      "Error\n",
      "WARNING *** file size (267823) not 512 + multiple of sector size (512)\n",
      "WARNING *** file size (2004124) not 512 + multiple of sector size (512)\n",
      "Error\n",
      "WARNING *** file size (263847) not 512 + multiple of sector size (512)\n",
      "Error\n",
      "WARNING *** file size (255221) not 512 + multiple of sector size (512)\n",
      "WARNING *** file size (2256114) not 512 + multiple of sector size (512)\n",
      "Error\n",
      "Error\n",
      "WARNING *** file size (290841) not 512 + multiple of sector size (512)\n",
      "WARNING *** file size (2276445) not 512 + multiple of sector size (512)\n",
      "Error\n",
      "WARNING *** file size (315773) not 512 + multiple of sector size (512)\n",
      "WARNING *** file size (263833) not 512 + multiple of sector size (512)\n",
      "WARNING *** file size (2475145) not 512 + multiple of sector size (512)\n",
      "Error\n",
      "WARNING *** file size (1883129) not 512 + multiple of sector size (512)\n",
      "Error\n",
      "WARNING *** file size (295787) not 512 + multiple of sector size (512)\n",
      "Error\n",
      "Error\n",
      "WARNING *** file size (237031) not 512 + multiple of sector size (512)\n",
      "WARNING *** file size (998899) not 512 + multiple of sector size (512)\n",
      "Error\n",
      "WARNING *** file size (323853) not 512 + multiple of sector size (512)\n",
      "WARNING *** file size (983016) not 512 + multiple of sector size (512)\n",
      "Error\n",
      "Error\n",
      "Error\n",
      "WARNING *** file size (1226191) not 512 + multiple of sector size (512)\n",
      "Error\n",
      "WARNING *** file size (318007) not 512 + multiple of sector size (512)\n",
      "Error\n",
      "WARNING *** file size (319045) not 512 + multiple of sector size (512)\n",
      "WARNING *** file size (1015089) not 512 + multiple of sector size (512)\n",
      "Error\n",
      "Error\n",
      "WARNING *** file size (327607) not 512 + multiple of sector size (512)\n",
      "WARNING *** file size (382189) not 512 + multiple of sector size (512)\n",
      "Error\n",
      "WARNING *** file size (340469) not 512 + multiple of sector size (512)\n",
      "WARNING *** file size (271633) not 512 + multiple of sector size (512)\n",
      "WARNING *** file size (265523) not 512 + multiple of sector size (512)\n",
      "Error\n",
      "WARNING *** file size (190509) not 512 + multiple of sector size (512)\n",
      "Error\n",
      "WARNING *** file size (2371684) not 512 + multiple of sector size (512)\n",
      "Error\n",
      "WARNING *** file size (336287) not 512 + multiple of sector size (512)\n",
      "Error\n",
      "WARNING *** file size (302143) not 512 + multiple of sector size (512)\n",
      "WARNING *** file size (1965298) not 512 + multiple of sector size (512)\n",
      "Error\n",
      "WARNING *** file size (127968) not 512 + multiple of sector size (512)\n",
      "Error\n",
      "WARNING *** file size (335877) not 512 + multiple of sector size (512)\n",
      "Error\n",
      "WARNING *** file size (305633) not 512 + multiple of sector size (512)\n",
      "WARNING *** file size (1238584) not 512 + multiple of sector size (512)\n",
      "Error\n",
      "Error\n",
      "Error\n",
      "Error\n",
      "Error\n",
      "Error\n",
      "Error\n",
      "Error\n",
      "Error\n",
      "Error\n",
      "WARNING *** file size (259366) not 512 + multiple of sector size (512)\n",
      "Error\n",
      "Error\n",
      "Error\n",
      "Error\n",
      "Error\n",
      "Error\n",
      "Error\n",
      "WARNING *** file size (337141) not 512 + multiple of sector size (512)\n",
      "WARNING *** file size (1105359) not 512 + multiple of sector size (512)\n",
      "Error\n",
      "Error\n",
      "Error\n",
      "WARNING *** file size (1088610) not 512 + multiple of sector size (512)\n",
      "Error\n",
      "WARNING *** file size (300075) not 512 + multiple of sector size (512)\n",
      "Error\n",
      "Error\n",
      "WARNING *** file size (833650) not 512 + multiple of sector size (512)\n",
      "Error\n",
      "WARNING *** file size (259791) not 512 + multiple of sector size (512)\n"
     ]
    }
   ],
   "source": [
    "import os\n",
    "rootdir = 'C:\\Raha\\Work\\TEMPOS\\Dr.Tighe\\PCA Logs 1_20_17'\n",
    "#rootdir = '/Volumes/Tempos/PCA Logs 1_20_17'\n",
    "keypress=[]\n",
    "doses=[]\n",
    "patient=[]\n",
    "patient_id=[]\n",
    "time_demand=[]\n",
    "demand_hr=[]\n",
    "delivery_hr=[]\n",
    "demand_72=[]\n",
    "doses_72=[]\n",
    "time_delivery=[]\n",
    "person_dmd=[]\n",
    "person_del=[]\n",
    "last_demand=[]\n",
    "last_delivery=[]\n",
    "tries=[]\n",
    "tm=[]\n",
    "preprocessed = pd.DataFrame()\n",
    "gender=[]\n",
    "age=[]\n",
    "service=[]\n",
    "time_delivery_df = pd.DataFrame()\n",
    "time_demand_df = pd.DataFrame()\n",
    "df_demands=pd.DataFrame()\n",
    "for subdir, dirs, files in os.walk(rootdir):\n",
    "    for file in files:      \n",
    "        try:\n",
    "            #Extract the excel and create  the dataframe \n",
    "            xl = pd.ExcelFile(os.path.join(subdir, file)\n",
    "                 ,skiprows=5,parse_cols=\"A,B,C,F\" )\n",
    "            sheet_name=xl.sheet_names[0]\n",
    "            df = xl.parse(sheet_name,skiprows=4,parse_cols=\"A,B,C,F\")\n",
    "\n",
    "            #file name is RedCap_ID of the patient\n",
    "            patient_id=subdir.split(\"\\\\\")[6]\n",
    "            #Extract the Gender, Age and Service Type\n",
    "            temp=filtered[filtered.RedCap_ID==patient_id]\n",
    "            xtract = pd.concat([xtract, temp])\n",
    "            #Shifting the columns to get the keypress events followed by program complete event (Demand followed by delivery)\n",
    "            df['shiftDown']=''\n",
    "            shiftDownDf=df[0:len(df)-1][['Description']]\n",
    "            dfnew=pd.DataFrame({1:0},index=[0])\n",
    "            shiftDownDf=pd.concat([dfnew,shiftDownDf]).reset_index(drop=True)\n",
    "            df['shiftDown']=shiftDownDf['Description']\n",
    "            #extract all the demands (signified by keypress event)\n",
    "            filtered_demand=df[df.Description=='KEYPRESS_ATTACHED']\n",
    "            filtered_demand=filtered_demand.sort_values('Log Date')\n",
    "            tt=pd.DataFrame(pd.to_datetime(filtered_demand['Log Date'])-pd.to_datetime(filtered_demand[['Log Date']].iloc[0][0])).astype('timedelta64[s]')\n",
    "            filtered_demand.loc[:,'nextTimeDiff']=tt.loc[:,'Log Date']\n",
    "            new_df=filtered_demand[['nextTimeDiff']]\n",
    "            new_df['Id']=patient_id\n",
    "            df_demands=df_demands.append(new_df)\n",
    "            shiftUpDf=filtered_demand[1:len(filtered_demand)][['nextTimeDiff']]\n",
    "            filtered_demand=filtered_demand.reset_index(drop=True)\n",
    "            shiftUpDf=shiftUpDf.reset_index(drop=True)\n",
    "            filtered_demand['shiftUp']=shiftUpDf\n",
    "            dmd=filtered_demand['shiftUp']-filtered_demand['nextTimeDiff'][0:-2]\n",
    "            dmd=np.array(dmd)\n",
    "            dmd=dmd[~np.isnan(dmd)]\n",
    "            avg_dmd=sum(dmd)/len(dmd)\n",
    "            person_dmd.append(avg_dmd)\n",
    "            demand_72.append(len(filtered_demand[filtered_demand['nextTimeDiff']/(60*60)<=72]))\n",
    "\n",
    "            #Time between demands\n",
    "            time_demand.extend(filtered_demand['shiftUp']-filtered_demand['nextTimeDiff'][0:-2])\n",
    "            #Time until last demand.For Kaplan Meier plots\n",
    "            last_demand.append(filtered_demand['nextTimeDiff'][len(filtered_demand)-1])\n",
    "            #Demand per hour\n",
    "            demand_hr.extend(filtered_demand['nextTimeDiff'])\n",
    "\n",
    "            #extract all the deliveries (signified by PROGRAM_COMPLETE_ATTACHED event)\n",
    "            filtered_delivery=df[(df.Description=='KEYPRESS_ATTACHED') & (df.shiftDown=='PROGRAM_COMPLETE_ATTACHED') ]\n",
    "            filtered_delivery=filtered_delivery.sort_values('Log Date')\n",
    "            filtered_delivery['timeDiff']=pd.DataFrame(pd.to_datetime(filtered_delivery['Log Date'])-pd.to_datetime(filtered_delivery[['Log Date']].iloc[0][0])).astype('timedelta64[s]')\n",
    "            probtime_delivery=filtered_delivery[1:len(filtered_delivery)][['timeDiff']]\n",
    "            filtered_delivery=filtered_delivery.reset_index(drop=True)\n",
    "            probtime_delivery=probtime_delivery.reset_index(drop=True)\n",
    "            filtered_delivery['time_delivery']=probtime_delivery\n",
    "            #Records the last delivery time. For Kaplan Meier plots\n",
    "            last_delivery.append(filtered_delivery['timeDiff'][len(filtered_delivery)-1])\n",
    "            delivery=filtered_delivery['time_delivery']-filtered_delivery['timeDiff']\n",
    "            delivery=np.array(delivery)\n",
    "            delivery=delivery[~np.isnan(delivery)]\n",
    "            avg_del=sum(delivery)/len(delivery)\n",
    "            person_del.append(avg_del)\n",
    "            \n",
    "            #Time between delivery\n",
    "            time_delivery.extend(filtered_delivery['time_delivery']-filtered_delivery['timeDiff'])\n",
    "\n",
    "            if not xtract.empty :\n",
    "                age.append(xtract['Age'].tolist()[0])\n",
    "                gender.append(xtract['Sex'].tolist()[0])\n",
    "                service.append(xtract['Service'].tolist()[0])\n",
    "                td=pd.DataFrame(filtered_demand['shiftUp']-filtered_demand['nextTimeDiff'][0:-2])\n",
    "                td['Sex']=xtract['Sex'].tolist()[0]\n",
    "                td['Age']=xtract['Age'].tolist()[0]\n",
    "                td['Service']=xtract['Service'].tolist()[0]\n",
    "                time_demand_df=time_demand_df.append(td)\n",
    "                td=pd.DataFrame(filtered_delivery['time_delivery']-filtered_delivery['timeDiff'])\n",
    "                td['Sex']=xtract['Sex'].tolist()[0]\n",
    "                td['Age']=xtract['Age'].tolist()[0]\n",
    "                td['Service']=xtract['Service'].tolist()[0]\n",
    "                time_delivery_df=time_delivery_df.append(td,ignore_index=True)\n",
    "            else :\n",
    "                age.append('')\n",
    "                gender.append('')\n",
    "                service.append('') \n",
    "            delivery_hr.extend(filtered_delivery['timeDiff'])\n",
    "            \n",
    "            #Records the number of demands\n",
    "            keypress.append(len(filtered_demand))\n",
    "            #Records the number of deliveries\n",
    "            doses.append(len(filtered_delivery))\n",
    "\n",
    "            #Number of doses in the first 72 hours\n",
    "            doses_72.append(len(filtered_delivery[filtered_delivery['timeDiff']/(60*60)<=72]))\n",
    "            #List of patients\n",
    "            patient.append(patient_id)\n",
    "\n",
    "            #To find out after how many demands ,there was a successful delivery\n",
    "            filtered_demand['TemposId']=patient_id\n",
    "            filtered_demand['flag']=0\n",
    "            filtered_demand.loc[filtered_demand['Log Date'].isin(filtered_delivery['Log Date'].tolist()) , 'flag'] = 1\n",
    "            idx=filtered_demand[filtered_demand.flag==1].index.tolist()[0]-filtered_demand.index.tolist()[0]\n",
    "            tries.append(idx+1)\n",
    "\n",
    "            #Finding out after how many seconds after the first demand ,there was a successful delivery\n",
    "            date_tm=filtered_demand.ix[idx]['Log Date']\n",
    "            tm.append(pd.to_datetime(date_tm)-pd.to_datetime(filtered_demand[['Log Date']].iloc[0][0]))\n",
    "            preprocessed=preprocessed.append(filtered_demand[['TemposId','Log Date','flag']],ignore_index=True)\n",
    "\n",
    "        except:\n",
    "            print(\"Error\")\n",
    "\n"
   ]
  },
  {
   "cell_type": "markdown",
   "metadata": {
    "run_control": {
     "frozen": false,
     "read_only": false
    }
   },
   "source": [
    "##### Removing outliers"
   ]
  },
  {
   "cell_type": "code",
   "execution_count": 151,
   "metadata": {
    "run_control": {
     "frozen": false,
     "read_only": false
    }
   },
   "outputs": [],
   "source": [
    "last_demand.remove(520327096.0)"
   ]
  },
  {
   "cell_type": "code",
   "execution_count": 152,
   "metadata": {
    "run_control": {
     "frozen": false,
     "read_only": false
    }
   },
   "outputs": [],
   "source": [
    "time_demand.remove(519191369.0)"
   ]
  },
  {
   "cell_type": "code",
   "execution_count": 157,
   "metadata": {
    "run_control": {
     "frozen": false,
     "read_only": false
    }
   },
   "outputs": [],
   "source": [
    "df_prep=pd.DataFrame()\n",
    "df_prep['id']=patient\n",
    "df_prep['k']=tries\n",
    "df_prep['Time']=pd.DataFrame(tm).astype('timedelta64[s]')\n",
    "df_prep=df_prep[df_prep['id']!='TEMPOS-68']\n",
    "df_prep['Time_mod']=df_prep['Time']\n",
    "for i, row in df_prep.iterrows():\n",
    "    val = row['Time']\n",
    "    if val==0.0:\n",
    "        val = random.random()\n",
    "        df_prep.set_value(i,'Time_mod',val)\n",
    "df_prep[['id','k']].to_csv('C:\\Raha\\Work\\TEMPOS\\Dr.Tighe\\\\trials.csv',index=False)\n",
    "df_prep[['id','Time']].to_csv('C:\\Raha\\Work\\TEMPOS\\Dr.Tighe\\\\expTime.csv',index=False)\n",
    "df_prep[['id','Time_mod']].to_csv('C:\\Raha\\Work\\TEMPOS\\Dr.Tighe\\\\expTime_mod.csv',index=False)"
   ]
  },
  {
   "cell_type": "markdown",
   "metadata": {
    "run_control": {
     "frozen": false,
     "read_only": false
    }
   },
   "source": [
    "###  Extract gender,service age information"
   ]
  },
  {
   "cell_type": "markdown",
   "metadata": {
    "run_control": {
     "frozen": false,
     "read_only": false
    }
   },
   "source": [
    "### DISTRIBUTION OF GENDER,SERVICE AND AGE"
   ]
  },
  {
   "cell_type": "markdown",
   "metadata": {
    "run_control": {
     "frozen": false,
     "read_only": false
    }
   },
   "source": [
    "In the first part, the distribution of demands and deliveries for gender, age and service has been generated .This is followed by the scatter plot of the data "
   ]
  },
  {
   "cell_type": "code",
   "execution_count": 158,
   "metadata": {
    "collapsed": true,
    "run_control": {
     "frozen": false,
     "read_only": false
    }
   },
   "outputs": [],
   "source": [
    "master_data = pd.read_csv('C:\\Raha\\Work\\TEMPOS\\Dr.Tighe\\ENCRYPTED_MASTER_DATASET.csv')"
   ]
  },
  {
   "cell_type": "code",
   "execution_count": 159,
   "metadata": {
    "collapsed": true,
    "run_control": {
     "frozen": false,
     "read_only": false
    }
   },
   "outputs": [],
   "source": [
    "filtered_master=master_data[master_data['RedCap_ID'].isin (patient)]"
   ]
  },
  {
   "cell_type": "code",
   "execution_count": 160,
   "metadata": {
    "collapsed": true,
    "run_control": {
     "frozen": false,
     "read_only": false
    }
   },
   "outputs": [],
   "source": [
    "combined= pd.DataFrame({'RedCap_ID': patient,\n",
    "     'Doses': doses,\n",
    "     'Keypress': keypress\n",
    "    })"
   ]
  },
  {
   "cell_type": "code",
   "execution_count": 161,
   "metadata": {
    "collapsed": true,
    "run_control": {
     "frozen": false,
     "read_only": false
    }
   },
   "outputs": [],
   "source": [
    "combined_72= pd.DataFrame({'RedCap_ID': patient,\n",
    "     'Doses': doses_72,\n",
    "     'Demand': demand_72\n",
    "    })"
   ]
  },
  {
   "cell_type": "code",
   "execution_count": 162,
   "metadata": {
    "collapsed": true,
    "run_control": {
     "frozen": false,
     "read_only": false
    }
   },
   "outputs": [],
   "source": [
    "mrg=pd.merge(combined_72, filtered_master, on='RedCap_ID')\n",
    "mrg['Age']=''\n",
    "mrg.loc[mrg['Age at Encounter'] <= 40, 'Age'] = '40 and Below'\n",
    "mrg.loc[((mrg['Age at Encounter'] >=40) & (mrg['Age at Encounter'] <=70)), 'Age'] = '70 and Below'\n",
    "mrg.loc[((mrg['Age at Encounter'] >=70)) , 'Age'] = 'Above 70'"
   ]
  },
  {
   "cell_type": "code",
   "execution_count": 163,
   "metadata": {
    "collapsed": true,
    "run_control": {
     "frozen": false,
     "read_only": false
    }
   },
   "outputs": [],
   "source": [
    "mrg=mrg[['RedCap_ID','Doses','Demand','Service','Age','Sex']]"
   ]
  },
  {
   "cell_type": "code",
   "execution_count": 164,
   "metadata": {
    "run_control": {
     "frozen": false,
     "read_only": false
    }
   },
   "outputs": [
    {
     "data": {
      "text/html": [
       "<div>\n",
       "<style>\n",
       "    .dataframe thead tr:only-child th {\n",
       "        text-align: right;\n",
       "    }\n",
       "\n",
       "    .dataframe thead th {\n",
       "        text-align: left;\n",
       "    }\n",
       "\n",
       "    .dataframe tbody tr th {\n",
       "        vertical-align: top;\n",
       "    }\n",
       "</style>\n",
       "<table border=\"1\" class=\"dataframe\">\n",
       "  <thead>\n",
       "    <tr style=\"text-align: right;\">\n",
       "      <th></th>\n",
       "      <th>Doses</th>\n",
       "      <th>Demand</th>\n",
       "    </tr>\n",
       "    <tr>\n",
       "      <th>Sex</th>\n",
       "      <th></th>\n",
       "      <th></th>\n",
       "    </tr>\n",
       "  </thead>\n",
       "  <tbody>\n",
       "    <tr>\n",
       "      <th>FEMALE</th>\n",
       "      <td>392</td>\n",
       "      <td>619</td>\n",
       "    </tr>\n",
       "    <tr>\n",
       "      <th>MALE</th>\n",
       "      <td>409</td>\n",
       "      <td>673</td>\n",
       "    </tr>\n",
       "  </tbody>\n",
       "</table>\n",
       "</div>"
      ],
      "text/plain": [
       "        Doses  Demand\n",
       "Sex                  \n",
       "FEMALE    392     619\n",
       "MALE      409     673"
      ]
     },
     "execution_count": 164,
     "metadata": {},
     "output_type": "execute_result"
    }
   ],
   "source": [
    "mrg.groupby('Sex').sum()"
   ]
  },
  {
   "cell_type": "code",
   "execution_count": 165,
   "metadata": {
    "run_control": {
     "frozen": false,
     "read_only": false
    }
   },
   "outputs": [
    {
     "data": {
      "text/html": [
       "<div>\n",
       "<style>\n",
       "    .dataframe thead tr:only-child th {\n",
       "        text-align: right;\n",
       "    }\n",
       "\n",
       "    .dataframe thead th {\n",
       "        text-align: left;\n",
       "    }\n",
       "\n",
       "    .dataframe tbody tr th {\n",
       "        vertical-align: top;\n",
       "    }\n",
       "</style>\n",
       "<table border=\"1\" class=\"dataframe\">\n",
       "  <thead>\n",
       "    <tr style=\"text-align: right;\">\n",
       "      <th></th>\n",
       "      <th>Doses</th>\n",
       "      <th>Demand</th>\n",
       "    </tr>\n",
       "    <tr>\n",
       "      <th>Age</th>\n",
       "      <th></th>\n",
       "      <th></th>\n",
       "    </tr>\n",
       "  </thead>\n",
       "  <tbody>\n",
       "    <tr>\n",
       "      <th>40 and Below</th>\n",
       "      <td>122</td>\n",
       "      <td>186</td>\n",
       "    </tr>\n",
       "    <tr>\n",
       "      <th>70 and Below</th>\n",
       "      <td>367</td>\n",
       "      <td>596</td>\n",
       "    </tr>\n",
       "    <tr>\n",
       "      <th>Above 70</th>\n",
       "      <td>312</td>\n",
       "      <td>510</td>\n",
       "    </tr>\n",
       "  </tbody>\n",
       "</table>\n",
       "</div>"
      ],
      "text/plain": [
       "              Doses  Demand\n",
       "Age                        \n",
       "40 and Below    122     186\n",
       "70 and Below    367     596\n",
       "Above 70        312     510"
      ]
     },
     "execution_count": 165,
     "metadata": {},
     "output_type": "execute_result"
    }
   ],
   "source": [
    "mrg.groupby('Age').sum()"
   ]
  },
  {
   "cell_type": "code",
   "execution_count": 166,
   "metadata": {
    "run_control": {
     "frozen": false,
     "read_only": false
    }
   },
   "outputs": [
    {
     "data": {
      "text/html": [
       "<div>\n",
       "<style>\n",
       "    .dataframe thead tr:only-child th {\n",
       "        text-align: right;\n",
       "    }\n",
       "\n",
       "    .dataframe thead th {\n",
       "        text-align: left;\n",
       "    }\n",
       "\n",
       "    .dataframe tbody tr th {\n",
       "        vertical-align: top;\n",
       "    }\n",
       "</style>\n",
       "<table border=\"1\" class=\"dataframe\">\n",
       "  <thead>\n",
       "    <tr style=\"text-align: right;\">\n",
       "      <th></th>\n",
       "      <th>Doses</th>\n",
       "      <th>Demand</th>\n",
       "    </tr>\n",
       "    <tr>\n",
       "      <th>Service</th>\n",
       "      <th></th>\n",
       "      <th></th>\n",
       "    </tr>\n",
       "  </thead>\n",
       "  <tbody>\n",
       "    <tr>\n",
       "      <th>Colorectal Surgery</th>\n",
       "      <td>92</td>\n",
       "      <td>107</td>\n",
       "    </tr>\n",
       "    <tr>\n",
       "      <th>Neurosurgery</th>\n",
       "      <td>51</td>\n",
       "      <td>148</td>\n",
       "    </tr>\n",
       "    <tr>\n",
       "      <th>Pancreas &amp; Biliary Surgery</th>\n",
       "      <td>171</td>\n",
       "      <td>283</td>\n",
       "    </tr>\n",
       "    <tr>\n",
       "      <th>Thoracic/Cardiovascular Surgery</th>\n",
       "      <td>305</td>\n",
       "      <td>431</td>\n",
       "    </tr>\n",
       "    <tr>\n",
       "      <th>Urology</th>\n",
       "      <td>182</td>\n",
       "      <td>323</td>\n",
       "    </tr>\n",
       "  </tbody>\n",
       "</table>\n",
       "</div>"
      ],
      "text/plain": [
       "                                 Doses  Demand\n",
       "Service                                       \n",
       "Colorectal Surgery                  92     107\n",
       "Neurosurgery                        51     148\n",
       "Pancreas & Biliary Surgery         171     283\n",
       "Thoracic/Cardiovascular Surgery    305     431\n",
       "Urology                            182     323"
      ]
     },
     "execution_count": 166,
     "metadata": {},
     "output_type": "execute_result"
    }
   ],
   "source": [
    "mrg.groupby('Service').sum()"
   ]
  },
  {
   "cell_type": "code",
   "execution_count": 167,
   "metadata": {
    "collapsed": true,
    "run_control": {
     "frozen": false,
     "read_only": false
    }
   },
   "outputs": [],
   "source": [
    "merged_df=pd.merge(combined, filtered_master, on='RedCap_ID')"
   ]
  },
  {
   "cell_type": "code",
   "execution_count": 168,
   "metadata": {
    "collapsed": true,
    "run_control": {
     "frozen": false,
     "read_only": false
    }
   },
   "outputs": [],
   "source": [
    "x=merged_df['Service'].tolist()\n",
    "y=merged_df['Keypress'].tolist()\n"
   ]
  },
  {
   "cell_type": "code",
   "execution_count": 169,
   "metadata": {
    "collapsed": true,
    "run_control": {
     "frozen": false,
     "read_only": false
    }
   },
   "outputs": [],
   "source": [
    "service_df=merged_df[['Service','Keypress']]"
   ]
  },
  {
   "cell_type": "code",
   "execution_count": 170,
   "metadata": {
    "collapsed": true,
    "run_control": {
     "frozen": false,
     "read_only": false
    }
   },
   "outputs": [],
   "source": [
    "merged_df.columns\n",
    "sns.set_style(\"whitegrid\")"
   ]
  },
  {
   "cell_type": "markdown",
   "metadata": {
    "run_control": {
     "frozen": false,
     "read_only": false
    }
   },
   "source": [
    "### Surgical Service "
   ]
  },
  {
   "cell_type": "code",
   "execution_count": 171,
   "metadata": {
    "run_control": {
     "frozen": false,
     "read_only": false
    }
   },
   "outputs": [
    {
     "data": {
      "image/png": "[encoded data removed]",
      "text/plain": [
       "<matplotlib.figure.Figure at 0xbfc9dd8>"
      ]
     },
     "metadata": {},
     "output_type": "display_data"
    }
   ],
   "source": [
    "g=sns.stripplot(x='Service', y='Keypress', data=service_df);\n",
    "\n",
    "plt.xticks(rotation=90)\n",
    "g.set(xlabel='Surgical Service', ylabel='Demands')\n",
    "sns.plt.title('Distribution of Demands by Surgical Service')\n",
    "f=g.get_figure()\n",
    "pp = PdfPages('SurgicalService.pdf')\n",
    "pp.savefig(f,bbox_inches='tight')\n",
    "pp.close()"
   ]
  },
  {
   "cell_type": "markdown",
   "metadata": {
    "run_control": {
     "frozen": false,
     "read_only": false
    }
   },
   "source": [
    "### Gender"
   ]
  },
  {
   "cell_type": "code",
   "execution_count": 172,
   "metadata": {
    "run_control": {
     "frozen": false,
     "read_only": false
    }
   },
   "outputs": [
    {
     "data": {
      "image/png": "[encoded data removed]",
      "text/plain": [
       "<matplotlib.figure.Figure at 0xe2fc4e0>"
      ]
     },
     "metadata": {},
     "output_type": "display_data"
    }
   ],
   "source": [
    "g=sns.stripplot(x='Sex', y='Keypress', data=merged_df);\n",
    "g.set(xlabel='Gender', ylabel='Demands')\n",
    "sns.plt.title('Distribution of Demands by Gender')\n",
    "f=g.get_figure()\n",
    "pp = PdfPages('Gender.pdf')\n",
    "pp.savefig(f,bbox_inches='tight')\n",
    "pp.close()"
   ]
  },
  {
   "cell_type": "markdown",
   "metadata": {
    "run_control": {
     "frozen": false,
     "read_only": false
    }
   },
   "source": [
    "### Age"
   ]
  },
  {
   "cell_type": "code",
   "execution_count": 173,
   "metadata": {
    "collapsed": true,
    "run_control": {
     "frozen": false,
     "read_only": false
    }
   },
   "outputs": [],
   "source": [
    "merged_df['Age']=''\n",
    "merged_df.loc[merged_df['Age at Encounter'] <= 40, 'Age'] = '40 and Below'\n",
    "merged_df.loc[((merged_df['Age at Encounter'] >=40) & (merged_df['Age at Encounter'] <=70)), 'Age'] = '70 and Below'\n",
    "merged_df.loc[((merged_df['Age at Encounter'] >=70)) , 'Age'] = 'Above 70'"
   ]
  },
  {
   "cell_type": "code",
   "execution_count": 174,
   "metadata": {
    "run_control": {
     "frozen": false,
     "read_only": false
    }
   },
   "outputs": [
    {
     "data": {
      "image/png": "[encoded data removed]",
      "text/plain": [
       "<matplotlib.figure.Figure at 0xe6b9978>"
      ]
     },
     "metadata": {},
     "output_type": "display_data"
    }
   ],
   "source": [
    "g=sns.stripplot(x='Age', y='Keypress', data=merged_df);\n",
    "g.set(xlabel='Age', ylabel='Demands')\n",
    "sns.plt.title('Distribution of Demands by Age')\n",
    "f=g.get_figure()\n",
    "pp = PdfPages('AgeDistribution.pdf')\n",
    "pp.savefig(f,bbox_inches='tight')\n",
    "pp.close()"
   ]
  },
  {
   "cell_type": "code",
   "execution_count": 175,
   "metadata": {
    "run_control": {
     "frozen": false,
     "read_only": false
    }
   },
   "outputs": [
    {
     "data": {
      "text/plain": [
       "(array([ 0,  1,  2,  3,  4,  5,  6,  7,  8,  9, 10, 11, 12, 13, 14, 15, 16,\n",
       "        17]), <a list of 18 Text xticklabel objects>)"
      ]
     },
     "execution_count": 175,
     "metadata": {},
     "output_type": "execute_result"
    },
    {
     "data": {
      "image/png": "[encoded data removed]",
      "text/plain": [
       "<matplotlib.figure.Figure at 0xc52d668>"
      ]
     },
     "metadata": {},
     "output_type": "display_data"
    }
   ],
   "source": [
    "sns.barplot(x=\"RedCap_ID\", y=\"Keypress\", hue=\"Sex\", data=merged_df)\n",
    "plt.xticks(rotation=90)\n"
   ]
  },
  {
   "cell_type": "markdown",
   "metadata": {
    "run_control": {
     "frozen": false,
     "read_only": false
    }
   },
   "source": [
    "###### Preprocessing for Geometric Distribution"
   ]
  },
  {
   "cell_type": "markdown",
   "metadata": {
    "run_control": {
     "frozen": false,
     "read_only": false
    }
   },
   "source": [
    "Geometric Distribution for p-value and mean and variance and generating the plot of geometric distribution."
   ]
  },
  {
   "cell_type": "code",
   "execution_count": 176,
   "metadata": {
    "collapsed": true,
    "run_control": {
     "frozen": false,
     "read_only": false
    }
   },
   "outputs": [],
   "source": [
    "df_combine=pd.DataFrame()\n",
    "df_combine['Doses']=doses\n",
    "df_combine['Demand']=keypress\n",
    "df_combine['Gender']=gender\n",
    "df_combine['Age']=age\n",
    "df_combine['Service']=service\n",
    "df_combine['p']=df_combine['Doses']/df_combine['Demand']\n",
    "df_combine['p'].mean()\n",
    "df_combine_fil=df_combine[df_combine.Age!='']\n",
    "p_age=df_combine_fil.groupby('Age')['p'].mean()\n",
    "p_sex=df_combine_fil.groupby('Gender')['p'].mean()\n",
    "p_service=df_combine_fil.groupby('Service')['p'].mean()"
   ]
  },
  {
   "cell_type": "markdown",
   "metadata": {
    "run_control": {
     "frozen": false,
     "read_only": false
    }
   },
   "source": [
    "##### p-values for service ,age ,gender (Geometric Distribution)"
   ]
  },
  {
   "cell_type": "code",
   "execution_count": 177,
   "metadata": {
    "run_control": {
     "frozen": false,
     "read_only": false
    }
   },
   "outputs": [
    {
     "data": {
      "text/html": [
       "<div>\n",
       "<style>\n",
       "    .dataframe thead tr:only-child th {\n",
       "        text-align: right;\n",
       "    }\n",
       "\n",
       "    .dataframe thead th {\n",
       "        text-align: left;\n",
       "    }\n",
       "\n",
       "    .dataframe tbody tr th {\n",
       "        vertical-align: top;\n",
       "    }\n",
       "</style>\n",
       "<table border=\"1\" class=\"dataframe\">\n",
       "  <thead>\n",
       "    <tr style=\"text-align: right;\">\n",
       "      <th></th>\n",
       "      <th>p</th>\n",
       "      <th>mean</th>\n",
       "      <th>variance</th>\n",
       "    </tr>\n",
       "    <tr>\n",
       "      <th>Service</th>\n",
       "      <th></th>\n",
       "      <th></th>\n",
       "      <th></th>\n",
       "    </tr>\n",
       "  </thead>\n",
       "  <tbody>\n",
       "    <tr>\n",
       "      <th>Neurosurgery</th>\n",
       "      <td>0.601236</td>\n",
       "      <td>1.663242</td>\n",
       "      <td>1.103131</td>\n",
       "    </tr>\n",
       "  </tbody>\n",
       "</table>\n",
       "</div>"
      ],
      "text/plain": [
       "                     p      mean  variance\n",
       "Service                                   \n",
       "Neurosurgery  0.601236  1.663242  1.103131"
      ]
     },
     "execution_count": 177,
     "metadata": {},
     "output_type": "execute_result"
    }
   ],
   "source": [
    "p_service_df=pd.DataFrame(p_service)\n",
    "p=p_service_df['p']\n",
    "p_service_df['mean']=1/p\n",
    "p_service_df['variance']= (1-p)/(p*p)\n",
    "p_service_df"
   ]
  },
  {
   "cell_type": "code",
   "execution_count": 178,
   "metadata": {
    "run_control": {
     "frozen": false,
     "read_only": false
    }
   },
   "outputs": [
    {
     "data": {
      "text/html": [
       "<div>\n",
       "<style>\n",
       "    .dataframe thead tr:only-child th {\n",
       "        text-align: right;\n",
       "    }\n",
       "\n",
       "    .dataframe thead th {\n",
       "        text-align: left;\n",
       "    }\n",
       "\n",
       "    .dataframe tbody tr th {\n",
       "        vertical-align: top;\n",
       "    }\n",
       "</style>\n",
       "<table border=\"1\" class=\"dataframe\">\n",
       "  <thead>\n",
       "    <tr style=\"text-align: right;\">\n",
       "      <th></th>\n",
       "      <th>p</th>\n",
       "      <th>mean</th>\n",
       "      <th>variance</th>\n",
       "    </tr>\n",
       "    <tr>\n",
       "      <th>Age</th>\n",
       "      <th></th>\n",
       "      <th></th>\n",
       "      <th></th>\n",
       "    </tr>\n",
       "  </thead>\n",
       "  <tbody>\n",
       "    <tr>\n",
       "      <th>Above 70</th>\n",
       "      <td>0.601236</td>\n",
       "      <td>1.663242</td>\n",
       "      <td>1.103131</td>\n",
       "    </tr>\n",
       "  </tbody>\n",
       "</table>\n",
       "</div>"
      ],
      "text/plain": [
       "                 p      mean  variance\n",
       "Age                                   \n",
       "Above 70  0.601236  1.663242  1.103131"
      ]
     },
     "execution_count": 178,
     "metadata": {},
     "output_type": "execute_result"
    }
   ],
   "source": [
    "p_age_df=pd.DataFrame(p_age)\n",
    "p=p_age_df['p']\n",
    "p_age_df['mean']=1/p\n",
    "p_age_df['variance']= (1-p)/(p*p)\n",
    "p_age_df"
   ]
  },
  {
   "cell_type": "code",
   "execution_count": 179,
   "metadata": {
    "run_control": {
     "frozen": false,
     "read_only": false
    }
   },
   "outputs": [
    {
     "data": {
      "text/html": [
       "<div>\n",
       "<style>\n",
       "    .dataframe thead tr:only-child th {\n",
       "        text-align: right;\n",
       "    }\n",
       "\n",
       "    .dataframe thead th {\n",
       "        text-align: left;\n",
       "    }\n",
       "\n",
       "    .dataframe tbody tr th {\n",
       "        vertical-align: top;\n",
       "    }\n",
       "</style>\n",
       "<table border=\"1\" class=\"dataframe\">\n",
       "  <thead>\n",
       "    <tr style=\"text-align: right;\">\n",
       "      <th></th>\n",
       "      <th>p</th>\n",
       "      <th>mean</th>\n",
       "      <th>variance</th>\n",
       "    </tr>\n",
       "    <tr>\n",
       "      <th>Gender</th>\n",
       "      <th></th>\n",
       "      <th></th>\n",
       "      <th></th>\n",
       "    </tr>\n",
       "  </thead>\n",
       "  <tbody>\n",
       "    <tr>\n",
       "      <th>FEMALE</th>\n",
       "      <td>0.601236</td>\n",
       "      <td>1.663242</td>\n",
       "      <td>1.103131</td>\n",
       "    </tr>\n",
       "  </tbody>\n",
       "</table>\n",
       "</div>"
      ],
      "text/plain": [
       "               p      mean  variance\n",
       "Gender                              \n",
       "FEMALE  0.601236  1.663242  1.103131"
      ]
     },
     "execution_count": 179,
     "metadata": {},
     "output_type": "execute_result"
    }
   ],
   "source": [
    "p_sex_df=pd.DataFrame(p_sex)\n",
    "p=p_sex_df['p']\n",
    "p_sex_df['mean']=1/p\n",
    "p_sex_df['variance']= (1-p)/(p*p)\n",
    "p_sex_df"
   ]
  },
  {
   "cell_type": "code",
   "execution_count": 181,
   "metadata": {
    "run_control": {
     "frozen": false,
     "read_only": false
    }
   },
   "outputs": [
    {
     "data": {
      "text/plain": [
       "0"
      ]
     },
     "execution_count": 181,
     "metadata": {},
     "output_type": "execute_result"
    }
   ],
   "source": [
    "p=sum(doses)/sum(keypress)\n",
    "p"
   ]
  },
  {
   "cell_type": "markdown",
   "metadata": {
    "run_control": {
     "frozen": false,
     "read_only": false
    }
   },
   "source": [
    "### Geometric Distribution"
   ]
  },
  {
   "cell_type": "code",
   "execution_count": 182,
   "metadata": {
    "run_control": {
     "frozen": false,
     "read_only": false
    }
   },
   "outputs": [
    {
     "data": {
      "image/png": "[encoded data removed]",
      "text/plain": [
       "<matplotlib.figure.Figure at 0xda40908>"
      ]
     },
     "metadata": {},
     "output_type": "display_data"
    }
   ],
   "source": [
    "fig, ax = plt.subplots(1, 1)\n",
    "x = range(1,10)\n",
    "ax.plot(x, geom.pmf(x, p), 'bo', ms=8, label='geom pmf')\n",
    "ax.vlines(x, 0, geom.pmf(x, p), colors='b', lw=5, alpha=0.5)\n",
    "prob = geom.cdf(x, p)\n",
    "#ax.plot(x,prob)\n",
    "#rv = geom(p)\n",
    "#ax.vlines(x, 0, rv.pmf(x), colors='k', linestyles='-', lw=1,\n",
    "#         label='frozen pmf')\n",
    "ax.legend(loc='best', frameon=False)\n",
    "\n",
    "plt.xlabel('Number of Trials')\n",
    "plt.ylabel('Probability')\n",
    "plt.title(\"Geometric Probability Mass Function of Demands Before Dose Delivery\")\n",
    "pp = PdfPages('Fig2.pdf')\n",
    "pp.savefig(fig,bbox_inches='tight')\n",
    "pp.close()\n",
    "plt.show()"
   ]
  },
  {
   "cell_type": "markdown",
   "metadata": {
    "run_control": {
     "frozen": false,
     "read_only": false
    }
   },
   "source": [
    "#### Preprocessing to get the number of demands/deliveries per day and per hour"
   ]
  },
  {
   "cell_type": "code",
   "execution_count": 183,
   "metadata": {
    "collapsed": true,
    "run_control": {
     "frozen": false,
     "read_only": false
    }
   },
   "outputs": [],
   "source": [
    "#time_demand.remove(519191369.0)\n",
    "time_demand=np.array(time_demand)\n",
    "time_demand=time_demand[~np.isnan(time_demand)]\n",
    "time_delivery=np.array(time_delivery)\n",
    "time_delivery=time_delivery[~np.isnan(time_delivery)]\n"
   ]
  },
  {
   "cell_type": "code",
   "execution_count": 184,
   "metadata": {
    "collapsed": true,
    "run_control": {
     "frozen": false,
     "read_only": false
    }
   },
   "outputs": [],
   "source": [
    "min=[]\n",
    "for i in range(0,200,10) :\n",
    "        min.append(i)"
   ]
  },
  {
   "cell_type": "code",
   "execution_count": 185,
   "metadata": {
    "collapsed": true,
    "run_control": {
     "frozen": false,
     "read_only": false
    }
   },
   "outputs": [],
   "source": [
    "time_demand=time_demand/(60)"
   ]
  },
  {
   "cell_type": "code",
   "execution_count": 186,
   "metadata": {
    "collapsed": true,
    "run_control": {
     "frozen": false,
     "read_only": false
    }
   },
   "outputs": [],
   "source": [
    "time_delivery=time_delivery/(60)"
   ]
  },
  {
   "cell_type": "markdown",
   "metadata": {
    "run_control": {
     "frozen": false,
     "read_only": false
    }
   },
   "source": [
    "Number of delivery per hour"
   ]
  },
  {
   "cell_type": "code",
   "execution_count": 187,
   "metadata": {
    "collapsed": true,
    "run_control": {
     "frozen": false,
     "read_only": false
    }
   },
   "outputs": [],
   "source": [
    "delivery_per_hr=[]\n",
    "delivery_per_hr[:] = [x / (60*60) for x in delivery_hr]\n",
    "delivery_per_hr=[int(float(x)) for x in delivery_per_hr]"
   ]
  },
  {
   "cell_type": "code",
   "execution_count": 188,
   "metadata": {
    "collapsed": true,
    "run_control": {
     "frozen": false,
     "read_only": false
    }
   },
   "outputs": [],
   "source": [
    "dm_per_hr=pd.DataFrame(delivery_per_hr)\n",
    "mean_delivery=dm_per_hr.groupby(0).size()"
   ]
  },
  {
   "cell_type": "markdown",
   "metadata": {
    "run_control": {
     "frozen": false,
     "read_only": false
    }
   },
   "source": [
    "Number of demands per hour"
   ]
  },
  {
   "cell_type": "code",
   "execution_count": 189,
   "metadata": {
    "collapsed": true,
    "run_control": {
     "frozen": false,
     "read_only": false
    }
   },
   "outputs": [],
   "source": [
    "demand_per_hr=[]\n",
    "demand_per_hr[:] = [x / (60*60) for x in demand_hr]\n",
    "demand_per_hr=[int(float(x)) for x in demand_per_hr]"
   ]
  },
  {
   "cell_type": "code",
   "execution_count": 190,
   "metadata": {
    "collapsed": true,
    "run_control": {
     "frozen": false,
     "read_only": false
    }
   },
   "outputs": [],
   "source": [
    "dm_per_hr=pd.DataFrame(demand_per_hr)\n",
    "mean_demand=dm_per_hr.groupby(0).size()"
   ]
  },
  {
   "cell_type": "code",
   "execution_count": 191,
   "metadata": {
    "collapsed": true,
    "run_control": {
     "frozen": false,
     "read_only": false
    }
   },
   "outputs": [],
   "source": [
    "mean_demand_hr=sum(mean_demand)/len(mean_demand)"
   ]
  },
  {
   "cell_type": "markdown",
   "metadata": {
    "run_control": {
     "frozen": false,
     "read_only": false
    }
   },
   "source": [
    " Generating the demand and delivery within the first 72 hours. "
   ]
  },
  {
   "cell_type": "code",
   "execution_count": 192,
   "metadata": {
    "collapsed": true,
    "run_control": {
     "frozen": false,
     "read_only": false
    }
   },
   "outputs": [],
   "source": [
    "dmd_72=mean_demand[0:72]\n",
    "mean_dmd_72=sum(dmd_72)/len(dmd_72)"
   ]
  },
  {
   "cell_type": "code",
   "execution_count": 193,
   "metadata": {
    "collapsed": true,
    "run_control": {
     "frozen": false,
     "read_only": false
    }
   },
   "outputs": [],
   "source": [
    "demand_per_day=[]\n",
    "demand_per_day[:] = [x / (60*60*24) for x in demand_hr]"
   ]
  },
  {
   "cell_type": "markdown",
   "metadata": {
    "run_control": {
     "frozen": false,
     "read_only": false
    }
   },
   "source": [
    "Number of demands per day"
   ]
  },
  {
   "cell_type": "code",
   "execution_count": 194,
   "metadata": {
    "collapsed": true,
    "run_control": {
     "frozen": false,
     "read_only": false
    }
   },
   "outputs": [],
   "source": [
    "demand_per_day=[int(float(x)) for x in demand_per_day]\n",
    "dm_per_day=pd.DataFrame(demand_per_day)\n",
    "mean_demand_day=dm_per_day.groupby(0).size()\n",
    "#mean_dmd_day=sum(mean_demand_day)/len(mean_demand_day)"
   ]
  },
  {
   "cell_type": "markdown",
   "metadata": {
    "run_control": {
     "frozen": false,
     "read_only": false
    }
   },
   "source": [
    "Number of deliveries per day"
   ]
  },
  {
   "cell_type": "code",
   "execution_count": 195,
   "metadata": {
    "collapsed": true,
    "run_control": {
     "frozen": false,
     "read_only": false
    }
   },
   "outputs": [],
   "source": [
    "delivery_per_day=[]\n",
    "delivery_per_day[:] = [x / (60*60*24) for x in delivery_hr]\n",
    "delivery_per_day=[int(float(x)) for x in delivery_per_day]\n",
    "del_per_day=pd.DataFrame(delivery_per_day)\n",
    "mean_delivery_day=del_per_day.groupby(0).size()\n",
    "#mean_delivery_day=sum(mean_delivery_day)/len(mean_delivery_day)"
   ]
  },
  {
   "cell_type": "code",
   "execution_count": 196,
   "metadata": {
    "collapsed": true,
    "run_control": {
     "frozen": false,
     "read_only": false
    }
   },
   "outputs": [],
   "source": [
    "day=[1,2,3,4,5]"
   ]
  },
  {
   "cell_type": "code",
   "execution_count": 197,
   "metadata": {
    "run_control": {
     "frozen": false,
     "read_only": false
    }
   },
   "outputs": [
    {
     "data": {
      "text/html": [
       "<div>\n",
       "<style>\n",
       "    .dataframe thead tr:only-child th {\n",
       "        text-align: right;\n",
       "    }\n",
       "\n",
       "    .dataframe thead th {\n",
       "        text-align: left;\n",
       "    }\n",
       "\n",
       "    .dataframe tbody tr th {\n",
       "        vertical-align: top;\n",
       "    }\n",
       "</style>\n",
       "<table border=\"1\" class=\"dataframe\">\n",
       "  <thead>\n",
       "    <tr style=\"text-align: right;\">\n",
       "      <th></th>\n",
       "      <th>Day</th>\n",
       "      <th>p</th>\n",
       "      <th>mean</th>\n",
       "      <th>variance</th>\n",
       "    </tr>\n",
       "  </thead>\n",
       "  <tbody>\n",
       "    <tr>\n",
       "      <th>0</th>\n",
       "      <td>1</td>\n",
       "      <td>0.584283</td>\n",
       "      <td>1.711500</td>\n",
       "      <td>1.217731</td>\n",
       "    </tr>\n",
       "    <tr>\n",
       "      <th>1</th>\n",
       "      <td>2</td>\n",
       "      <td>0.644372</td>\n",
       "      <td>1.551899</td>\n",
       "      <td>0.856491</td>\n",
       "    </tr>\n",
       "    <tr>\n",
       "      <th>2</th>\n",
       "      <td>3</td>\n",
       "      <td>0.565737</td>\n",
       "      <td>1.767606</td>\n",
       "      <td>1.356824</td>\n",
       "    </tr>\n",
       "    <tr>\n",
       "      <th>3</th>\n",
       "      <td>4</td>\n",
       "      <td>0.575758</td>\n",
       "      <td>1.736842</td>\n",
       "      <td>1.279778</td>\n",
       "    </tr>\n",
       "    <tr>\n",
       "      <th>4</th>\n",
       "      <td>5</td>\n",
       "      <td>0.666667</td>\n",
       "      <td>1.500000</td>\n",
       "      <td>0.750000</td>\n",
       "    </tr>\n",
       "  </tbody>\n",
       "</table>\n",
       "</div>"
      ],
      "text/plain": [
       "   Day         p      mean  variance\n",
       "0    1  0.584283  1.711500  1.217731\n",
       "1    2  0.644372  1.551899  0.856491\n",
       "2    3  0.565737  1.767606  1.356824\n",
       "3    4  0.575758  1.736842  1.279778\n",
       "4    5  0.666667  1.500000  0.750000"
      ]
     },
     "execution_count": 197,
     "metadata": {},
     "output_type": "execute_result"
    }
   ],
   "source": [
    "df_dem_doses=pd.DataFrame()\n",
    "df_dem_doses['Day']=day\n",
    "df_dem_doses['Demand']=mean_demand_day[0:5]\n",
    "df_dem_doses['Doses']=mean_delivery_day\n",
    "df_dem_doses['p']=mean_delivery_day/mean_demand_day[0:5]\n",
    "p=df_dem_doses['p']\n",
    "df_dem_doses['mean']=1/p\n",
    "df_dem_doses['variance']= (1-p)/(p*p)\n",
    "df_dem_doses[['Day','p','mean','variance']]"
   ]
  },
  {
   "cell_type": "markdown",
   "metadata": {
    "run_control": {
     "frozen": false,
     "read_only": false
    }
   },
   "source": [
    "The doses/ demands for postoperative days"
   ]
  },
  {
   "cell_type": "code",
   "execution_count": 198,
   "metadata": {
    "run_control": {
     "frozen": false,
     "read_only": false
    }
   },
   "outputs": [
    {
     "data": {
      "text/html": [
       "<div>\n",
       "<style>\n",
       "    .dataframe thead tr:only-child th {\n",
       "        text-align: right;\n",
       "    }\n",
       "\n",
       "    .dataframe thead th {\n",
       "        text-align: left;\n",
       "    }\n",
       "\n",
       "    .dataframe tbody tr th {\n",
       "        vertical-align: top;\n",
       "    }\n",
       "</style>\n",
       "<table border=\"1\" class=\"dataframe\">\n",
       "  <thead>\n",
       "    <tr style=\"text-align: right;\">\n",
       "      <th></th>\n",
       "      <th>Day</th>\n",
       "      <th>Demand</th>\n",
       "      <th>Doses</th>\n",
       "      <th>p</th>\n",
       "      <th>mean</th>\n",
       "      <th>variance</th>\n",
       "    </tr>\n",
       "  </thead>\n",
       "  <tbody>\n",
       "    <tr>\n",
       "      <th>0</th>\n",
       "      <td>1</td>\n",
       "      <td>2545</td>\n",
       "      <td>1487</td>\n",
       "      <td>0.584283</td>\n",
       "      <td>1.711500</td>\n",
       "      <td>1.217731</td>\n",
       "    </tr>\n",
       "    <tr>\n",
       "      <th>1</th>\n",
       "      <td>2</td>\n",
       "      <td>613</td>\n",
       "      <td>395</td>\n",
       "      <td>0.644372</td>\n",
       "      <td>1.551899</td>\n",
       "      <td>0.856491</td>\n",
       "    </tr>\n",
       "    <tr>\n",
       "      <th>2</th>\n",
       "      <td>3</td>\n",
       "      <td>251</td>\n",
       "      <td>142</td>\n",
       "      <td>0.565737</td>\n",
       "      <td>1.767606</td>\n",
       "      <td>1.356824</td>\n",
       "    </tr>\n",
       "    <tr>\n",
       "      <th>3</th>\n",
       "      <td>4</td>\n",
       "      <td>66</td>\n",
       "      <td>38</td>\n",
       "      <td>0.575758</td>\n",
       "      <td>1.736842</td>\n",
       "      <td>1.279778</td>\n",
       "    </tr>\n",
       "    <tr>\n",
       "      <th>4</th>\n",
       "      <td>5</td>\n",
       "      <td>18</td>\n",
       "      <td>12</td>\n",
       "      <td>0.666667</td>\n",
       "      <td>1.500000</td>\n",
       "      <td>0.750000</td>\n",
       "    </tr>\n",
       "  </tbody>\n",
       "</table>\n",
       "</div>"
      ],
      "text/plain": [
       "   Day  Demand  Doses         p      mean  variance\n",
       "0    1    2545   1487  0.584283  1.711500  1.217731\n",
       "1    2     613    395  0.644372  1.551899  0.856491\n",
       "2    3     251    142  0.565737  1.767606  1.356824\n",
       "3    4      66     38  0.575758  1.736842  1.279778\n",
       "4    5      18     12  0.666667  1.500000  0.750000"
      ]
     },
     "execution_count": 198,
     "metadata": {},
     "output_type": "execute_result"
    }
   ],
   "source": [
    "df_dem_doses"
   ]
  },
  {
   "cell_type": "code",
   "execution_count": 199,
   "metadata": {
    "collapsed": true,
    "run_control": {
     "frozen": false,
     "read_only": false
    }
   },
   "outputs": [],
   "source": [
    "p_arr=mean_delivery_day[0:6]/mean_demand_day[0:6]"
   ]
  },
  {
   "cell_type": "code",
   "execution_count": 200,
   "metadata": {
    "run_control": {
     "frozen": false,
     "read_only": false
    }
   },
   "outputs": [
    {
     "data": {
      "text/plain": [
       "0\n",
       "0    0.584283\n",
       "1    0.644372\n",
       "2    0.565737\n",
       "3    0.575758\n",
       "4    0.666667\n",
       "5         NaN\n",
       "7         NaN\n",
       "dtype: float64"
      ]
     },
     "execution_count": 200,
     "metadata": {},
     "output_type": "execute_result"
    }
   ],
   "source": [
    "mean_delivery_day[0:6]/mean_demand_day[0:6]"
   ]
  },
  {
   "cell_type": "markdown",
   "metadata": {
    "run_control": {
     "frozen": false,
     "read_only": false
    }
   },
   "source": [
    "Geometric Distribution for postoperative days"
   ]
  },
  {
   "cell_type": "code",
   "execution_count": 201,
   "metadata": {
    "run_control": {
     "frozen": false,
     "read_only": false
    }
   },
   "outputs": [
    {
     "data": {
      "image/png": "[encoded data removed]",
      "text/plain": [
       "<matplotlib.figure.Figure at 0xd7bc860>"
      ]
     },
     "metadata": {},
     "output_type": "display_data"
    }
   ],
   "source": [
    "x = range(1,10)\n",
    "f, ((ax1, ax2), (ax3,ax4)) = plt.subplots(2, 2,figsize=(13,11))\n",
    "\n",
    "ax1.plot(x, geom.pmf(x, p_arr[0]), 'bo', ms=8, label='geom pmf')\n",
    "ax1.vlines(x, 0, geom.pmf(x, p_arr[0]), colors='b', lw=5, alpha=0.5)\n",
    "ax1.set_title('Geometric Distribution Day 1 (p=0.627417)')\n",
    "ax1.set_ylabel('Probability')\n",
    "ax1.set_xlabel('Number of Trials')\n",
    "\n",
    "#plt.title('Day 1.p=',p_arr[0])\n",
    "\n",
    "ax2.plot(x, geom.pmf(x, p_arr[1]), 'bo', ms=8, label='geom pmf')\n",
    "ax2.vlines(x, 0, geom.pmf(x, p_arr[1]), colors='b', lw=5, alpha=0.5)\n",
    "ax2.set_title('Geometric Distribution Day 2 (p=0.606936)')\n",
    "ax2.set_ylabel('Probability')\n",
    "ax2.set_xlabel('Number of Trials')\n",
    "\n",
    "ax3.plot(x, geom.pmf(x, p_arr[2]), 'bo', ms=8, label='geom pmf')\n",
    "ax3.vlines(x, 0, geom.pmf(x, p_arr[2]), colors='b', lw=5, alpha=0.5)\n",
    "ax3.set_title('Geometric Distribution Day 3 (p=0.484663)')\n",
    "ax3.set_ylabel('Probability')\n",
    "ax3.set_xlabel('Number of Trials')\n",
    "\n",
    "\n",
    "ax4.plot(x, geom.pmf(x, p_arr[3]), 'bo', ms=8, label='geom pmf')\n",
    "ax4.vlines(x, 0, geom.pmf(x, p_arr[3]), colors='b', lw=5, alpha=0.5)\n",
    "ax4.set_title('Geometric Distribution Day 4 (p=0.703704)')\n",
    "ax4.set_ylabel('Probability')\n",
    "ax4.set_xlabel('Number of Trials')\n",
    "\n",
    "#ax.plot(x,prob)\n",
    "#rv = geom(p)\n",
    "#ax.vlines(x, 0, rv.pmf(x), colors='k', linestyles='-', lw=1,\n",
    "#         label='frozen pmf')\n",
    "pp = PdfPages('Fig2B.pdf')\n",
    "pp.savefig(f,bbox_inches='tight')\n",
    "pp.close()\n",
    "plt.show()"
   ]
  },
  {
   "cell_type": "markdown",
   "metadata": {
    "run_control": {
     "frozen": false,
     "read_only": false
    }
   },
   "source": [
    "##### Kaplan Meier Plots for last demand and delivery"
   ]
  },
  {
   "cell_type": "code",
   "execution_count": 202,
   "metadata": {
    "run_control": {
     "frozen": false,
     "read_only": false
    }
   },
   "outputs": [
    {
     "ename": "ImportError",
     "evalue": "No module named lifelines",
     "output_type": "error",
     "traceback": [
      "\u001b[1;31m---------------------------------------------------------------------------\u001b[0m",
      "\u001b[1;31mImportError\u001b[0m                               Traceback (most recent call last)",
      "\u001b[1;32m<ipython-input-202-c65a12b91223>\u001b[0m in \u001b[0;36m<module>\u001b[1;34m()\u001b[0m\n\u001b[1;32m----> 1\u001b[1;33m \u001b[1;32mfrom\u001b[0m \u001b[0mlifelines\u001b[0m \u001b[1;32mimport\u001b[0m \u001b[0mKaplanMeierFitter\u001b[0m\u001b[1;33m\u001b[0m\u001b[0m\n\u001b[0m\u001b[0;32m      2\u001b[0m \u001b[0mkmf\u001b[0m \u001b[1;33m=\u001b[0m \u001b[0mKaplanMeierFitter\u001b[0m\u001b[1;33m(\u001b[0m\u001b[1;33m)\u001b[0m\u001b[1;33m\u001b[0m\u001b[0m\n\u001b[0;32m      3\u001b[0m \u001b[0mdff\u001b[0m\u001b[1;33m=\u001b[0m\u001b[0mpd\u001b[0m\u001b[1;33m.\u001b[0m\u001b[0mDataFrame\u001b[0m\u001b[1;33m(\u001b[0m\u001b[0mlast_demand\u001b[0m\u001b[1;33m)\u001b[0m\u001b[1;33m\u001b[0m\u001b[0m\n\u001b[0;32m      4\u001b[0m \u001b[0mdff\u001b[0m\u001b[1;33m[\u001b[0m\u001b[1;36m1\u001b[0m\u001b[1;33m]\u001b[0m\u001b[1;33m=\u001b[0m\u001b[1;36m1\u001b[0m\u001b[1;33m\u001b[0m\u001b[0m\n\u001b[0;32m      5\u001b[0m \u001b[0mT\u001b[0m \u001b[1;33m=\u001b[0m \u001b[0mdff\u001b[0m\u001b[1;33m[\u001b[0m\u001b[1;36m0\u001b[0m\u001b[1;33m]\u001b[0m\u001b[1;33m\u001b[0m\u001b[0m\n",
      "\u001b[1;31mImportError\u001b[0m: No module named lifelines"
     ]
    }
   ],
   "source": [
    "from lifelines import KaplanMeierFitter\n",
    "kmf = KaplanMeierFitter()\n",
    "dff=pd.DataFrame(last_demand)\n",
    "dff[1]=1\n",
    "T = dff[0]\n",
    "E = dff[1]\n",
    "kmf.fit(T, event_observed=E,label='KM estimate for Demand') # more succiently, kmf.fit(T,E)\n",
    "kmf.survival_function_\n",
    "kmf.median_\n",
    "f=kmf.plot()\n",
    "pp = PdfPages('IZZA.pdf')\n",
    "#pp.savefig(kmf,bbox_inches='tight')\n",
    "pp.close()\n",
    "plt.show()"
   ]
  },
  {
   "cell_type": "code",
   "execution_count": 203,
   "metadata": {
    "run_control": {
     "frozen": false,
     "read_only": false
    }
   },
   "outputs": [
    {
     "ename": "ImportError",
     "evalue": "No module named lifelines",
     "output_type": "error",
     "traceback": [
      "\u001b[1;31m---------------------------------------------------------------------------\u001b[0m",
      "\u001b[1;31mImportError\u001b[0m                               Traceback (most recent call last)",
      "\u001b[1;32m<ipython-input-203-71d12723abfc>\u001b[0m in \u001b[0;36m<module>\u001b[1;34m()\u001b[0m\n\u001b[1;32m----> 1\u001b[1;33m \u001b[1;32mfrom\u001b[0m \u001b[0mlifelines\u001b[0m \u001b[1;32mimport\u001b[0m \u001b[0mKaplanMeierFitter\u001b[0m\u001b[1;33m\u001b[0m\u001b[0m\n\u001b[0m\u001b[0;32m      2\u001b[0m \u001b[0mkmf\u001b[0m \u001b[1;33m=\u001b[0m \u001b[0mKaplanMeierFitter\u001b[0m\u001b[1;33m(\u001b[0m\u001b[1;33m)\u001b[0m\u001b[1;33m\u001b[0m\u001b[0m\n\u001b[0;32m      3\u001b[0m \u001b[0mdff\u001b[0m\u001b[1;33m=\u001b[0m\u001b[0mpd\u001b[0m\u001b[1;33m.\u001b[0m\u001b[0mDataFrame\u001b[0m\u001b[1;33m(\u001b[0m\u001b[0mlast_delivery\u001b[0m\u001b[1;33m)\u001b[0m\u001b[1;33m\u001b[0m\u001b[0m\n\u001b[0;32m      4\u001b[0m \u001b[0mdff\u001b[0m\u001b[1;33m[\u001b[0m\u001b[1;36m1\u001b[0m\u001b[1;33m]\u001b[0m\u001b[1;33m=\u001b[0m\u001b[1;36m1\u001b[0m\u001b[1;33m\u001b[0m\u001b[0m\n\u001b[0;32m      5\u001b[0m \u001b[0mT\u001b[0m \u001b[1;33m=\u001b[0m \u001b[0mdff\u001b[0m\u001b[1;33m[\u001b[0m\u001b[1;36m0\u001b[0m\u001b[1;33m]\u001b[0m\u001b[1;33m\u001b[0m\u001b[0m\n",
      "\u001b[1;31mImportError\u001b[0m: No module named lifelines"
     ]
    }
   ],
   "source": [
    "from lifelines import KaplanMeierFitter\n",
    "kmf = KaplanMeierFitter()\n",
    "dff=pd.DataFrame(last_delivery)\n",
    "dff[1]=1\n",
    "T = dff[0]\n",
    "E = dff[1]\n",
    "kmf.fit(T, event_observed=E,label='KM estimate for Delivery') # more succiently, kmf.fit(T,E)\n",
    "kmf.survival_function_\n",
    "kmf.median_\n",
    "f=kmf.plot()\n",
    "pp = PdfPages('IZZB.pdf')\n",
    "#pp.savefig(ax,bbox_inches='tight')\n",
    "pp.close()\n",
    "plt.show()"
   ]
  },
  {
   "cell_type": "code",
   "execution_count": 204,
   "metadata": {
    "collapsed": true,
    "run_control": {
     "frozen": false,
     "read_only": false
    }
   },
   "outputs": [],
   "source": [
    "preprocessed.to_csv('C:\\Raha\\Work\\TEMPOS\\Dr.Tighe\\\\preprocessed.csv',index=False)"
   ]
  },
  {
   "cell_type": "markdown",
   "metadata": {
    "run_control": {
     "frozen": false,
     "read_only": false
    }
   },
   "source": [
    "###### DEMAND 72 hours after ,before surgery"
   ]
  },
  {
   "cell_type": "code",
   "execution_count": 205,
   "metadata": {
    "run_control": {
     "frozen": false,
     "read_only": false
    }
   },
   "outputs": [
    {
     "data": {
      "text/plain": [
       "72"
      ]
     },
     "execution_count": 205,
     "metadata": {},
     "output_type": "execute_result"
    }
   ],
   "source": [
    "mean_demand_72=sum(demand_72)/len(demand_72)\n",
    "mean_demand_72"
   ]
  },
  {
   "cell_type": "code",
   "execution_count": 206,
   "metadata": {
    "run_control": {
     "frozen": false,
     "read_only": false
    }
   },
   "outputs": [
    {
     "data": {
      "text/plain": [
       "43"
      ]
     },
     "execution_count": 206,
     "metadata": {},
     "output_type": "execute_result"
    }
   ],
   "source": [
    "mean_doses_72=sum(doses_72)/len(doses_72)\n",
    "mean_doses_72"
   ]
  },
  {
   "cell_type": "code",
   "execution_count": 207,
   "metadata": {
    "run_control": {
     "frozen": false,
     "read_only": false
    }
   },
   "outputs": [
    {
     "data": {
      "text/plain": [
       "76"
      ]
     },
     "execution_count": 207,
     "metadata": {},
     "output_type": "execute_result"
    }
   ],
   "source": [
    "mean_dem=sum(keypress)/len(patient)\n",
    "mean_dem"
   ]
  },
  {
   "cell_type": "code",
   "execution_count": 208,
   "metadata": {
    "run_control": {
     "frozen": false,
     "read_only": false
    }
   },
   "outputs": [
    {
     "data": {
      "text/plain": [
       "44"
      ]
     },
     "execution_count": 208,
     "metadata": {},
     "output_type": "execute_result"
    }
   ],
   "source": [
    "mean_doses=sum(doses)/len(patient)\n",
    "mean_doses"
   ]
  },
  {
   "cell_type": "code",
   "execution_count": 209,
   "metadata": {
    "run_control": {
     "frozen": false,
     "read_only": false
    }
   },
   "outputs": [
    {
     "data": {
      "text/plain": [
       "0    0.584283\n",
       "1    0.644372\n",
       "2    0.565737\n",
       "3    0.575758\n",
       "4    0.666667\n",
       "Name: p, dtype: float64"
      ]
     },
     "execution_count": 209,
     "metadata": {},
     "output_type": "execute_result"
    }
   ],
   "source": [
    "p"
   ]
  },
  {
   "cell_type": "code",
   "execution_count": 210,
   "metadata": {
    "collapsed": true,
    "run_control": {
     "frozen": false,
     "read_only": false
    }
   },
   "outputs": [],
   "source": [
    "labels=[]\n",
    "for i in range(1,len(patient)+1):\n",
    "    string='Patient '+ repr(i)   \n",
    "    labels.append(string)"
   ]
  },
  {
   "cell_type": "markdown",
   "metadata": {
    "run_control": {
     "frozen": false,
     "read_only": false
    }
   },
   "source": [
    "### Demands/Deliveries per patients"
   ]
  },
  {
   "cell_type": "code",
   "execution_count": 211,
   "metadata": {
    "run_control": {
     "frozen": false,
     "read_only": false
    }
   },
   "outputs": [
    {
     "data": {
      "image/png": "[encoded data removed]",
      "text/plain": [
       "<matplotlib.figure.Figure at 0xe1dc5f8>"
      ]
     },
     "metadata": {},
     "output_type": "display_data"
    }
   ],
   "source": [
    "g=sns.barplot(x=\"RedCap_ID\", y=\"Keypress\", data=combined)\n",
    "g.figure.set_size_inches(13, 9)\n",
    "g.set(xticklabels=labels)\n",
    "plt.xticks(rotation=90,fontsize=12)\n",
    "g.set(xlabel='Patients', ylabel='Demands')\n",
    "sns.set(font_scale=1.2)\n",
    "sns.plt.title('Demands for Patients')\n",
    "f=g.get_figure()\n",
    "#f.figure(figsize=(13,10))\n",
    "pp = PdfPages('1A.pdf')\n",
    "pp.savefig(f,bbox_inches='tight')\n",
    "pp.close()"
   ]
  },
  {
   "cell_type": "code",
   "execution_count": 212,
   "metadata": {
    "run_control": {
     "frozen": false,
     "read_only": false
    },
    "scrolled": true
   },
   "outputs": [
    {
     "data": {
      "image/png": "[encoded data removed]",
      "text/plain": [
       "<matplotlib.figure.Figure at 0xd7c7d68>"
      ]
     },
     "metadata": {},
     "output_type": "display_data"
    }
   ],
   "source": [
    "g=sns.barplot(x=\"RedCap_ID\", y=\"Doses\", data=combined)\n",
    "g.figure.set_size_inches(13, 9)\n",
    "plt.xticks(rotation=90,fontsize=12)\n",
    "g.set(xticklabels=labels)\n",
    "g.set(xlabel='Patients', ylabel='Deliveries')\n",
    "sns.set(font_scale=1.2)\n",
    "sns.plt.title('Deliveries for Patients')\n",
    "f=g.get_figure()\n",
    "pp = PdfPages('1B.pdf')\n",
    "pp.savefig(f,bbox_inches='tight')\n",
    "pp.close()"
   ]
  },
  {
   "cell_type": "markdown",
   "metadata": {
    "run_control": {
     "frozen": false,
     "read_only": false
    }
   },
   "source": [
    "### Deliveries vs Demands"
   ]
  },
  {
   "cell_type": "code",
   "execution_count": 213,
   "metadata": {
    "run_control": {
     "frozen": false,
     "read_only": false
    },
    "scrolled": true
   },
   "outputs": [
    {
     "data": {
      "image/png": "[encoded data removed]",
      "text/plain": [
       "<matplotlib.figure.Figure at 0xd64f470>"
      ]
     },
     "metadata": {},
     "output_type": "display_data"
    }
   ],
   "source": [
    "y2=combined['Doses'].tolist()\n",
    "y1=combined['Keypress'].tolist()\n",
    "x=np.arange(len(y1))\n",
    "#labels=merged_df['RedCap_ID'].tolist()\n",
    "from matplotlib.backends.backend_pdf import PdfPages \n",
    "f=plt.figure(figsize=(13,6))\n",
    "plt.plot(x,y1,'-o')\n",
    "plt.plot(x,y2,'-o')\n",
    "plt.xticks(x, labels, rotation='vertical')\n",
    "plt.xlabel('Patients')\n",
    "plt.ylabel('Count')\n",
    "plt.title(\"Demand vs Delivery for Patients\")\n",
    "leg=['Demand','Deliveries']\n",
    "plt.legend(leg, loc='best')\n",
    "pp = PdfPages('Figure1.pdf')\n",
    "pp.savefig(f,bbox_inches='tight')\n",
    "pp.close()"
   ]
  },
  {
   "cell_type": "code",
   "execution_count": 214,
   "metadata": {
    "collapsed": true,
    "run_control": {
     "frozen": false,
     "read_only": false
    }
   },
   "outputs": [],
   "source": [
    "import numpy as np\n",
    "import scipy.stats as stats\n",
    "import pylab as pl\n",
    "\n",
    "h = sorted(combined['Keypress'])\n",
    "\n",
    "fit = stats.norm.pdf(h, np.mean(h), np.std(h))  #this is a fitting indeed\n",
    "\n",
    "pl.plot(h,fit,'-o')\n",
    "pl.title(\"Distribution of demands\")\n",
    "pl.xlabel('Patients')\n",
    "pl.ylabel('Frequency')\n",
    "pl.hist(h,normed=True)      #use this to draw histogram of your data\n",
    "#pp = PdfPages('Fig1Demands.pdf')\n",
    "pl.savefig('Fig1Demands.pdf',bbox_inches='tight')\n",
    "pl.close()\n",
    "#pl.xticks(labels)\n",
    "pl.show() "
   ]
  },
  {
   "cell_type": "code",
   "execution_count": 215,
   "metadata": {
    "collapsed": true,
    "run_control": {
     "frozen": false,
     "read_only": false
    }
   },
   "outputs": [],
   "source": [
    "import numpy as np\n",
    "import scipy.stats as stats\n",
    "import pylab as pl\n",
    "\n",
    "h = sorted(combined['Doses'])\n",
    "\n",
    "fit = stats.norm.pdf(h, np.mean(h), np.std(h))  #this is a fitting indeed\n",
    "\n",
    "pl.plot(h,fit,'-o')\n",
    "pl.title(\"Distribution of deliveries\")\n",
    "pl.xlabel('Patients')\n",
    "pl.ylabel('Frequency')\n",
    "pl.hist(h,normed=True)      #use this to draw histogram of your data\n",
    "pl.savefig('Fig1Deliveries.pdf',bbox_inches='tight')\n",
    "pl.close()\n",
    "#pl.xticks(labels)\n",
    "pl.show() \n",
    "pl.show() "
   ]
  },
  {
   "cell_type": "code",
   "execution_count": 216,
   "metadata": {
    "run_control": {
     "frozen": false,
     "read_only": false
    }
   },
   "outputs": [
    {
     "data": {
      "text/plain": [
       "76.38297872340425"
      ]
     },
     "execution_count": 216,
     "metadata": {},
     "output_type": "execute_result"
    }
   ],
   "source": [
    "np.mean(keypress)"
   ]
  },
  {
   "cell_type": "markdown",
   "metadata": {
    "run_control": {
     "frozen": false,
     "read_only": false
    }
   },
   "source": [
    "##### DISTRIBUTION OF TIME BETWEEN DEMANDS AND DELIVERIES"
   ]
  },
  {
   "cell_type": "code",
   "execution_count": 217,
   "metadata": {
    "run_control": {
     "frozen": false,
     "read_only": false
    }
   },
   "outputs": [
    {
     "data": {
      "image/png": "[encoded data removed]",
      "text/plain": [
       "<matplotlib.figure.Figure at 0xe221080>"
      ]
     },
     "metadata": {},
     "output_type": "display_data"
    }
   ],
   "source": [
    "fig, ax = plt.subplots(figsize=(15,9))\n",
    "sns.distplot(time_demand,bins=range(1, 200,10),kde=False,color='g')\n",
    "#sns.distplot(time_delivery,bins=range(1, 10000,700),kde=False)\n",
    "ax.set_xlim([0, 200])\n",
    "plt.xlabel('Time(in mins)')\n",
    "plt.xticks(min)\n",
    "plt.ylabel('Count')\n",
    "plt.title(\"Distribution of time between demands\")\n",
    "pp = PdfPages('3A.pdf')\n",
    "pp.savefig(fig,bbox_inches='tight')\n",
    "pp.close()"
   ]
  },
  {
   "cell_type": "code",
   "execution_count": 218,
   "metadata": {
    "run_control": {
     "frozen": false,
     "read_only": false
    }
   },
   "outputs": [
    {
     "data": {
      "image/png": "[encoded data removed]",
      "text/plain": [
       "<matplotlib.figure.Figure at 0xe221630>"
      ]
     },
     "metadata": {},
     "output_type": "display_data"
    }
   ],
   "source": [
    "fig, ax = plt.subplots(figsize=(15,9))\n",
    "\n",
    "sns.distplot(time_delivery,bins=range(1, 200,10),kde=False,color='b')\n",
    "#sns.distplot(time_delivery,bins=range(1, 10000,700),kde=False)\n",
    "ax.set_xlim([0, 200])\n",
    "plt.xlabel('Time(in mins)')\n",
    "plt.xticks(min)\n",
    "plt.ylabel('Count')\n",
    "plt.title(\"Distribution of time between demands\")\n",
    "pp = PdfPages('3B.pdf')\n",
    "pp.savefig(fig,bbox_inches='tight')\n",
    "pp.close()"
   ]
  },
  {
   "cell_type": "markdown",
   "metadata": {
    "run_control": {
     "frozen": false,
     "read_only": false
    }
   },
   "source": [
    "### Demands  per hour and per day"
   ]
  },
  {
   "cell_type": "code",
   "execution_count": 219,
   "metadata": {
    "run_control": {
     "frozen": false,
     "read_only": false
    }
   },
   "outputs": [
    {
     "data": {
      "image/png": "[encoded data removed]",
      "text/plain": [
       "<matplotlib.figure.Figure at 0xdfd60b8>"
      ]
     },
     "metadata": {},
     "output_type": "display_data"
    }
   ],
   "source": [
    "fig=plt.figure(figsize=(15,9))\n",
    "sns.distplot(demand_per_hr,bins=range(1, 100,1),kde=False,color='m')\n",
    "ax.set_xlim([0, 100])\n",
    "plt.xlabel('Time(in mins)')\n",
    "#plt.xticks(min)\n",
    "plt.ylabel('Count of Demands')\n",
    "plt.title(\"Demands per hour\")\n",
    "pp = PdfPages('1YA.pdf')\n",
    "pp.savefig(fig,bbox_inches='tight')\n",
    "pp.close()\n"
   ]
  },
  {
   "cell_type": "code",
   "execution_count": 220,
   "metadata": {
    "run_control": {
     "frozen": false,
     "read_only": false
    }
   },
   "outputs": [
    {
     "data": {
      "image/png": "[encoded data removed]",
      "text/plain": [
       "<matplotlib.figure.Figure at 0x10eaf978>"
      ]
     },
     "metadata": {},
     "output_type": "display_data"
    }
   ],
   "source": [
    "fig, ax = plt.subplots()\n",
    "sns.distplot(demand_per_day,bins=range(1, 10,1),kde=False,color='r')\n",
    "#sns.distplot(time_delivery,bins=range(1, 10000,700),kde=False)\n",
    "ax.set_xlim([1, 10])\n",
    "plt.xlabel('Days')\n",
    "plt.xticks([1,2,3,4,5,6,7,8,9,10])\n",
    "plt.ylabel('Count of Demands')\n",
    "plt.title(\"Demands per day\")\n",
    "pp = PdfPages('1YB.pdf')\n",
    "pp.savefig(fig,bbox_inches='tight')\n",
    "pp.close()"
   ]
  },
  {
   "cell_type": "markdown",
   "metadata": {
    "run_control": {
     "frozen": false,
     "read_only": false
    }
   },
   "source": [
    "### Exponential Distribution for demands and deliveries (pdf and cdf)"
   ]
  },
  {
   "cell_type": "code",
   "execution_count": 221,
   "metadata": {
    "collapsed": true,
    "run_control": {
     "frozen": false,
     "read_only": false
    }
   },
   "outputs": [],
   "source": [
    "import scipy.stats as scp\n",
    "def exponen_dist_pdf(distri,pltname,pdfName,clr):\n",
    "    fig=plt.figure()\n",
    "    loc1,scale1=scp.expon.fit(distri)\n",
    "    x1=np.linspace(0,500,10)\n",
    "    y1=scp.expon.pdf(x1,loc1,scale1)\n",
    "    neg_log=-np.sum(scp.expon.logpdf(distri, loc1, scale1))\n",
    "    logLik=-neg_log\n",
    "    k=2\n",
    "    aic=2*k - 2*(logLik)\n",
    "    print(\"AIC\",aic)\n",
    "    print(\"Negative log likelihood\",neg_log)\n",
    "    print(\"mean\",scp.expon.mean(loc1, scale1))\n",
    "    print(\"Var\",scp.expon.var(loc1, scale1))\n",
    "    plt.plot (x1,y1,clr)\n",
    "    plt.xlabel('Time (mins)')\n",
    "    plt.ylabel('Density')\n",
    "    plt.title(pltname)\n",
    "    print(pdfName)\n",
    "    pp = PdfPages(pdfName+'.pdf')\n",
    "    pp.savefig(fig,bbox_inches='tight')\n",
    "    pp.close()\n",
    "    plt.show()"
   ]
  },
  {
   "cell_type": "code",
   "execution_count": 222,
   "metadata": {
    "collapsed": true,
    "run_control": {
     "frozen": false,
     "read_only": false
    }
   },
   "outputs": [],
   "source": [
    "import scipy.stats as scp\n",
    "def exponen_dist_cdf(distri,pltname,pdfName,clr):\n",
    "    loc,scale=scp.expon.fit(distri)\n",
    "    x=np.linspace(0,500,10)\n",
    "    y=scp.expon.cdf(x,loc,scale)\n",
    "    plt.plot (x,y,clr)\n",
    "    plt.xlabel('Time (mins)')\n",
    "    plt.ylabel('Density')\n",
    "    plt.title(pltname)\n",
    "    print(pdfName)\n",
    "    pp = PdfPages(pdfName)\n",
    "    pp.savefig(fig,bbox_inches='tight')\n",
    "    pp.close()\n",
    "    plt.show()"
   ]
  },
  {
   "cell_type": "code",
   "execution_count": 224,
   "metadata": {
    "run_control": {
     "frozen": false,
     "read_only": false
    },
    "scrolled": true
   },
   "outputs": [
    {
     "name": "stdout",
     "output_type": "stream",
     "text": [
      "('AIC', 33841.757716429391)\n",
      "('Negative log likelihood', 16918.878858214695)\n",
      "('mean', 46.41981463627809)\n",
      "('Var', 2154.7991968136098)\n",
      "3Aexp\n"
     ]
    },
    {
     "data": {
      "image/png": "[encoded data removed]",
      "text/plain": [
       "<matplotlib.figure.Figure at 0xd7be630>"
      ]
     },
     "metadata": {},
     "output_type": "display_data"
    },
    {
     "name": "stdout",
     "output_type": "stream",
     "text": [
      "('AIC', 20938.216407242988)\n",
      "('Negative log likelihood', 10467.108203621494)\n",
      "('mean', 64.187656799316315)\n",
      "('Var', 4115.7772194677455)\n",
      "3Bexp\n"
     ]
    },
    {
     "data": {
      "image/png": "[encoded data removed]",
      "text/plain": [
       "<matplotlib.figure.Figure at 0xea59c18>"
      ]
     },
     "metadata": {},
     "output_type": "display_data"
    }
   ],
   "source": [
    "exponen_dist_pdf(time_demand,'Exponential distribution of time between demands','3Aexp','g')\n",
    "exponen_dist_pdf(time_delivery,'Exponential distribution of time between deliveries','3Bexp','b')"
   ]
  },
  {
   "cell_type": "markdown",
   "metadata": {
    "run_control": {
     "frozen": false,
     "read_only": false
    }
   },
   "source": [
    "# Exponential Distribution of Demand by Age Sex nd Service  "
   ]
  },
  {
   "cell_type": "code",
   "execution_count": 225,
   "metadata": {
    "collapsed": true,
    "run_control": {
     "frozen": false,
     "read_only": false
    }
   },
   "outputs": [],
   "source": [
    "time_demand_df=time_demand_df[(time_demand_df[0]!=519191369.0/60)]"
   ]
  },
  {
   "cell_type": "code",
   "execution_count": 226,
   "metadata": {
    "collapsed": true,
    "run_control": {
     "frozen": false,
     "read_only": false
    }
   },
   "outputs": [],
   "source": [
    "time_demand_df=time_demand_df[time_demand_df[0]==519191369.0]\n",
    "time_demand_df=time_demand_df.dropna(how='any')\n",
    "time_demand_df[0]=time_demand_df[0]/60\n",
    "time_delivery_df=time_delivery_df.dropna(how='any')\n",
    "time_delivery_df[0]=time_delivery_df[0]/60\n"
   ]
  },
  {
   "cell_type": "code",
   "execution_count": 227,
   "metadata": {
    "collapsed": true,
    "run_control": {
     "frozen": false,
     "read_only": false
    }
   },
   "outputs": [],
   "source": [
    "def expMeanVar(distr,st):\n",
    "    loc1,scale1=scp.expon.fit(distr)\n",
    "    print(st)\n",
    "    print(\"mean\",scp.expon.mean(loc1, scale1))\n",
    "    print(\"Var\",scp.expon.var(loc1, scale1))"
   ]
  },
  {
   "cell_type": "code",
   "execution_count": 228,
   "metadata": {
    "run_control": {
     "frozen": false,
     "read_only": false
    }
   },
   "outputs": [
    {
     "name": "stdout",
     "output_type": "stream",
     "text": [
      "FEMALE\n",
      "('mean', 64.187656799316315)\n",
      "('Var', 4115.7772194677455)\n",
      "Above 70\n",
      "('mean', 64.187656799316315)\n",
      "('Var', 4115.7772194677455)\n",
      "Neurosurgery\n",
      "('mean', 64.187656799316315)\n",
      "('Var', 4115.7772194677455)\n",
      "All\n",
      "('mean', 64.187656799316315)\n",
      "('Var', 4115.7772194677455)\n"
     ]
    }
   ],
   "source": [
    "sex_list=time_delivery_df['Sex'].unique()\n",
    "age_list=time_delivery_df['Age'].unique()\n",
    "service_list=time_delivery_df['Service'].unique()\n",
    "for sx in sex_list:\n",
    "    sx_list=time_delivery_df[0][time_delivery_df['Sex']==sx]\n",
    "    expMeanVar(sx_list,sx)\n",
    "for ag in age_list:\n",
    "    age_list=time_delivery_df[0][time_delivery_df['Age']==ag]\n",
    "    expMeanVar(age_list,ag)\n",
    "for sr in service_list:\n",
    "    sr_list=time_delivery_df[0][time_delivery_df['Service']==sr]\n",
    "    expMeanVar(sr_list,sr)\n",
    "expMeanVar(time_delivery_df[0],\"All\")\n",
    "  "
   ]
  },
  {
   "cell_type": "markdown",
   "metadata": {
    "run_control": {
     "frozen": false,
     "read_only": false
    }
   },
   "source": [
    "##### DEMAND VS DELIVERY"
   ]
  },
  {
   "cell_type": "code",
   "execution_count": 229,
   "metadata": {
    "run_control": {
     "frozen": false,
     "read_only": false
    }
   },
   "outputs": [
    {
     "data": {
      "image/png": "[encoded data removed]",
      "text/plain": [
       "<matplotlib.figure.Figure at 0xfa5add8>"
      ]
     },
     "metadata": {},
     "output_type": "display_data"
    }
   ],
   "source": [
    "mean_demand_pd=pd.DataFrame(mean_demand[0:100])\n",
    "mean_delivery_pd=pd.DataFrame(mean_delivery)\n",
    "\n",
    "mean_demand_pd.columns=['dmd']\n",
    "mean_delivery_pd.columns=['del']\n",
    "mean_demand_pd=mean_demand_pd.reset_index()\n",
    "mean_demand_pd=mean_demand_pd[mean_demand_pd[0]<=100]\n",
    "\n",
    "mean_delivery_pd=mean_delivery_pd.reset_index()\n",
    "mean_delivery_pd=mean_delivery_pd[mean_delivery_pd[0]<=100]\n",
    "y1=mean_demand_pd['dmd'].tolist()\n",
    "y2=mean_delivery_pd['del'].tolist()\n",
    "x1=mean_demand_pd[0].tolist()\n",
    "x2=mean_delivery_pd[0].tolist()\n",
    "#labels=merged_df['RedCap_ID'].tolist()\n",
    "from matplotlib.backends.backend_pdf import PdfPages \n",
    "f=plt.figure(figsize=(13,6))\n",
    "plt.plot(x1,y1)\n",
    "plt.plot(x2,y2)\n",
    "plt.xticks([10,20,30,40,50,60,70,80,90,100])\n",
    "plt.xlabel('Time')\n",
    "plt.ylabel('Count')\n",
    "plt.title(\"Demand vs Delivery per Hour\")\n",
    "leg=['Demand','Deliveries']\n",
    "plt.legend(leg, loc='best')\n",
    "pp = PdfPages('Fig1Z.pdf')\n",
    "pp.savefig(f,bbox_inches='tight')\n",
    "pp.close()\n",
    "plt.show()"
   ]
  },
  {
   "cell_type": "code",
   "execution_count": 230,
   "metadata": {
    "collapsed": true,
    "run_control": {
     "frozen": false,
     "read_only": false
    }
   },
   "outputs": [],
   "source": [
    "time_delivery_df=time_delivery_df.dropna(how='any')"
   ]
  },
  {
   "cell_type": "code",
   "execution_count": 231,
   "metadata": {
    "run_control": {
     "frozen": false,
     "read_only": false
    }
   },
   "outputs": [
    {
     "name": "stdout",
     "output_type": "stream",
     "text": [
      "FEMALE\n",
      "('mean', 8653189.4833333381)\n",
      "('Var', 2.1778287899632969e-17)\n",
      "Above 70\n",
      "('mean', 8653189.4833333381)\n",
      "('Var', 2.1778287899632969e-17)\n",
      "Neurosurgery\n",
      "('mean', 8653189.4833333381)\n",
      "('Var', 2.1778287899632969e-17)\n",
      "All\n",
      "('mean', 8653189.4833333381)\n",
      "('Var', 2.1778287899632969e-17)\n"
     ]
    }
   ],
   "source": [
    "exp_dmd=pd.DataFrame()\n",
    "sex_list=time_demand_df['Sex'].unique()\n",
    "age_list=time_demand_df['Age'].unique()\n",
    "service_list=time_demand_df['Service'].unique()\n",
    "for sx in sex_list:\n",
    "    sx_list=time_demand_df[0][time_demand_df['Sex']==sx]\n",
    "    expMeanVar(sx_list,sx)\n",
    "for ag in age_list:\n",
    "    age_list=time_demand_df[0][time_demand_df['Age']==ag]\n",
    "    expMeanVar(age_list,ag)\n",
    "for sr in service_list:\n",
    "    sr_list=time_demand_df[0][time_demand_df['Service']==sr]\n",
    "    expMeanVar(sr_list,sr)\n",
    "expMeanVar(time_demand_df[0],\"All\")\n",
    "  "
   ]
  },
  {
   "cell_type": "markdown",
   "metadata": {
    "run_control": {
     "frozen": false,
     "read_only": false
    }
   },
   "source": [
    "### Poisson Distribution"
   ]
  },
  {
   "cell_type": "code",
   "execution_count": 232,
   "metadata": {
    "run_control": {
     "frozen": false,
     "read_only": false
    }
   },
   "outputs": [
    {
     "name": "stderr",
     "output_type": "stream",
     "text": [
      "C:\\Users\\BME-LADM-Baharloo\\AppData\\Local\\Continuum\\Anaconda2\\lib\\site-packages\\matplotlib\\cbook.py:2649: UserWarning: Saw kwargs [u'ls', u'linestyle'] which are all aliases for u'linestyle'.  Kept value from u'linestyle'\n",
      "  seen=seen, canon=canonical, used=seen[-1]))\n"
     ]
    },
    {
     "data": {
      "image/png": "[encoded data removed]",
      "text/plain": [
       "<matplotlib.figure.Figure at 0xfaf0080>"
      ]
     },
     "metadata": {},
     "output_type": "display_data"
    }
   ],
   "source": [
    "from scipy.stats import poisson\n",
    "import matplotlib.pyplot as plt\n",
    "mu_values = [25,75]\n",
    "linestyles = [ '-', '-']\n",
    "colors=['blue','green']\n",
    "#------------------------------------------------------------\n",
    "# plot the distributions\n",
    "#   we generate it using scipy.stats.poisson().  Once the distribution\n",
    "#   object is created, we have many options: for example\n",
    "#   - dist.pmf(x) evaluates the probability mass function in the case of\n",
    "#     discrete distributions.\n",
    "#   - dist.pdf(x) evaluates the probability density function for\n",
    "#   evaluates\n",
    "fig, ax = plt.subplots(figsize=(8, 6))\n",
    "\n",
    "for mu, ls,c in zip(mu_values, linestyles,colors):\n",
    "    # create a poisson distribution\n",
    "    # we could generate a random sample from this distribution using, e.g.\n",
    "    #   rand = dist.rvs(1000)\n",
    "    dist = poisson(mu)\n",
    "    x = np.sort(keypress)\n",
    "    \n",
    "    plt.plot(x, dist.pmf(x), ls=ls, color=c,\n",
    "             label=r'$\\mu=%i$' % mu, linestyle='steps-mid')\n",
    "\n",
    "plt.xlim(0, 150)\n",
    "plt.ylim(0.02, 0.05)\n",
    "\n",
    "plt.xlabel('$x$')\n",
    "plt.ylabel(r'$p(x|\\mu)$')\n",
    "plt.title('Poisson Distribution')\n",
    "\n",
    "plt.legend()\n",
    "plt.show()\n",
    "\n",
    "pp = PdfPages('Poisson.pdf')\n",
    "pp.savefig(fig,bbox_inches='tight')\n",
    "pp.close()"
   ]
  },
  {
   "cell_type": "code",
   "execution_count": null,
   "metadata": {
    "collapsed": true
   },
   "outputs": [],
   "source": []
  }
 ],
 "metadata": {
  "anaconda-cloud": {},
  "hide_input": false,
  "kernelspec": {
   "display_name": "Python 2",
   "language": "python",
   "name": "python2"
  },
  "language_info": {
   "codemirror_mode": {
    "name": "ipython",
    "version": 2
   },
   "file_extension": ".py",
   "mimetype": "text/x-python",
   "name": "python",
   "nbconvert_exporter": "python",
   "pygments_lexer": "ipython2",
   "version": "2.7.13"
  },
  "toc": {
   "nav_menu": {
    "height": "264px",
    "width": "252px"
   },
   "navigate_menu": true,
   "number_sections": true,
   "sideBar": true,
   "threshold": 4,
   "toc_cell": false,
   "toc_section_display": "block",
   "toc_window_display": false
  }
 },
 "nbformat": 4,
 "nbformat_minor": 1
}
